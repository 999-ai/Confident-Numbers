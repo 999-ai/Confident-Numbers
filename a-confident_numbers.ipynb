{
 "cells": [
  {
   "cell_type": "code",
   "execution_count": null,
   "id": "81c7aa47-7a0b-4e48-9c12-5b99b26c8180",
   "metadata": {},
   "outputs": [],
   "source": [
    "cube_list=[];\n",
    "start=100\n",
    "final=999\n",
    "for no in range(start,final+1):\n",
    "    units_digit=no%10\n",
    "    tens_digit=(no//10)%10\n",
    "    hundreds_digit=no//100\n",
    "    sum=pow(units_digit,3)+pow(tens_digit,3)+pow(hundreds_digit,3)\n",
    "    if sum==no:\n",
    "     cube_list.append(no)\n",
    "print(cube_list)"
   ]
  }
 ],
 "metadata": {
  "kernelspec": {
   "display_name": "Python 3 (ipykernel)",
   "language": "python",
   "name": "python3"
  },
  "language_info": {
   "codemirror_mode": {
    "name": "ipython",
    "version": 3
   },
   "file_extension": ".py",
   "mimetype": "text/x-python",
   "name": "python",
   "nbconvert_exporter": "python",
   "pygments_lexer": "ipython3",
   "version": "3.12.4"
  }
 },
 "nbformat": 4,
 "nbformat_minor": 5
}
